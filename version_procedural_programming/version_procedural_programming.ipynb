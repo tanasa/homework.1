{
 "cells": [
  {
   "cell_type": "code",
   "execution_count": 1,
   "id": "006b94d6-6621-4684-ad64-dbf3b6a279e4",
   "metadata": {},
   "outputs": [],
   "source": [
    "# The steps to solve the problem are as follows:\n",
    "\n",
    "# 1. First, we convert the CIGAR string into an expanded format, such as:\n",
    "#    MMMMMMMM-------MMMMMM++MM-----------MMMMMMM\n",
    "#    MMMMMMMMMMMMMMMMMMMM\n",
    "#    This transformation allows us to track the position of each nucleotide within the expanded string representation.\n",
    "\n",
    "# 2. Next, we align the positions in the expanded string representation to the genome sequence.\n",
    "\n",
    "# 3. Finally, we print the required information: transcript name, nucleotide index, chromosome name,\n",
    "#    and the genome position corresponding to each nucleotide index."
   ]
  },
  {
   "cell_type": "code",
   "execution_count": null,
   "id": "1d031031-01d8-454b-94a7-f44bcbbe1053",
   "metadata": {},
   "outputs": [],
   "source": []
  },
  {
   "cell_type": "code",
   "execution_count": 2,
   "id": "dafe2ce1-8174-418c-8ed1-7a3c61ac5992",
   "metadata": {},
   "outputs": [],
   "source": [
    "import os\n",
    "import re  \n",
    "import pandas as pd"
   ]
  },
  {
   "cell_type": "code",
   "execution_count": null,
   "id": "eff9b2cb-fb07-4be2-9bb3-7998a188fd80",
   "metadata": {},
   "outputs": [],
   "source": []
  },
  {
   "cell_type": "code",
   "execution_count": 3,
   "id": "7bc69869-8acf-406e-b9ef-6c5106f6f59a",
   "metadata": {},
   "outputs": [],
   "source": [
    "def transform_cigar(cigar_string):\n",
    "\n",
    "    '''\n",
    "    Transforms a CIGAR string into an expanded representation of its alignment operations.\n",
    "\n",
    "    The function converts the input CIGAR string, which specifies alignment operations\n",
    "    (e.g., \"8M7D6M2I2M11D7M\", or \"10M\"), into a string where each operation is \n",
    "    represented by repeated characters. Specifically :\n",
    "        - 'M' (match): Represented by 'M' repeated the specified number of times\n",
    "        - 'D' (deletion): Represented by '-' repeated the specified number of times\n",
    "        - 'I' (insertion): Represented by '+' repeated the specified number of times\n",
    "\n",
    "    Parameters:\n",
    "    -----------\n",
    "    cigar_string : str\n",
    "        The CIGAR string to be transformed. It consists of one or more \n",
    "        sections of an integer followed by a character (M, I, or D).\n",
    "\n",
    "    Returns ::\n",
    "    --------\n",
    "    str\n",
    "        A single string where each alignment operation in the CIGAR string \n",
    "        is expanded into its detailed character representation.\n",
    "\n",
    "    Example:\n",
    "    --------\n",
    "    >>> transform_cigar(\"8M7D6M2I2M11D7M\")\n",
    "    'MMMMMMMM-------MMMMMM++MM-----------MMMMMMM'\n",
    "\n",
    "    >>> transform_cigar(\"10M\")\n",
    "    'MMMMMMMMMM'\n",
    "\n",
    "    '''\n",
    "    \n",
    "    # Initialize an empty list to store the transformed string\n",
    "    transformed_string = []\n",
    "\n",
    "    # Use a regular expression to find all matches in the CIGAR string\n",
    "    matches = re.finditer(r'(\\d+)([MID])', cigar_string)\n",
    "\n",
    "    for match in matches:\n",
    "        length = int(match.group(1))                 # Get the length\n",
    "        operation = match.group(2)                   # Get the operation characters\n",
    "        \n",
    "        if operation == 'M':                         \n",
    "            transformed_string.append('M' * length)  # Append 'M' length times\n",
    "        elif operation == 'D':                       \n",
    "            transformed_string.append('-' * length)  # Append '-' for deletions \n",
    "        elif operation == 'I':                       \n",
    "            transformed_string.append('+' * length)  # Append '+' for insertions \n",
    "\n",
    "    # Join the list of characters into a single string and return\n",
    "    return ''.join(transformed_string)"
   ]
  },
  {
   "cell_type": "code",
   "execution_count": 4,
   "id": "b5a2e1bf-e27f-4289-999d-a8279d9836a8",
   "metadata": {},
   "outputs": [
    {
     "name": "stdout",
     "output_type": "stream",
     "text": [
      "Testing the function : transform_cigar():\n",
      "more information is available in the xls file.\n",
      "MMMMMMMM-------MMMMMM++MM-----------MMMMMMM\n"
     ]
    }
   ],
   "source": [
    "print(\"Testing the function : transform_cigar():\") \n",
    "print(\"more information is available in the xls file.\") \n",
    "cigar_string1 = \"8M7D6M2I2M11D7M\"\n",
    "transformed_string1 = transform_cigar(cigar_string1)\n",
    "print(transformed_string1)  "
   ]
  },
  {
   "cell_type": "code",
   "execution_count": null,
   "id": "b6433890-e525-49a0-83d5-428659804b1d",
   "metadata": {},
   "outputs": [],
   "source": []
  },
  {
   "cell_type": "code",
   "execution_count": 5,
   "id": "0ceea92e-2be6-4d03-a1d6-679be00163cf",
   "metadata": {},
   "outputs": [],
   "source": [
    "def find_transcript_index(transformed_string, transcript_nucleotide_position):\n",
    "\n",
    "    '''\n",
    "    Finds the index of a specific NUCLEOTIDE NUMBER in the expanded CIGAR representation.\n",
    "\n",
    "    The function takes a transformed CIGAR string (where 'M' indicates a match,\n",
    "    '-' indicates a deletion, and '+' indicates an insertion) and a nucleotide number\n",
    "    in the transcript, and returns the corresponding index in the transformed string.\n",
    "    \n",
    "    The function adjusts for 0-based indexing by subtracting 1 from the provided\n",
    "    `transcript_nucleotide_position` if it is greater than 0. The function processes\n",
    "    each character in the transformed string and keeps track of both the original transcript\n",
    "    position and the current index in the transformed string.\n",
    "\n",
    "    Parameters:\n",
    "    -----------\n",
    "    transformed_string : str\n",
    "        The expanded representation of the CIGAR string, consisting of characters 'M',\n",
    "        '-', and '+'.\n",
    "\n",
    "    transcript_nucleotide_position : int\n",
    "        The 1-based position of the nucleotide in the original transcript. \n",
    "\n",
    "    Returns:\n",
    "    --------\n",
    "    int\n",
    "        The index of the nucleotide in the transformed string if found; otherwise,\n",
    "        returns -1 if the nucleotide does not map to a position in the transformed string.\n",
    "\n",
    "    Example:\n",
    "    --------\n",
    "    >>> transformed_string = transform_cigar(\"8M7D6M2I2M11D7M\")\n",
    "    >>> find_transcript_index(transformed_string, 19)\n",
    "    36  # Returns the index in the transformed string for the given nucleotide position\n",
    "\n",
    "    Notes:\n",
    "    ------\n",
    "    If the provided nucleotide position corresponds to an insertion, the function\n",
    "    will indicate that mapping to an insertion is likely and will return -1.\n",
    "\n",
    "    '''\n",
    "\n",
    "    # Adjust for 0-based indexing\n",
    "    if transcript_nucleotide_position > 0: \n",
    "                  transcript_nucleotide_position -= 1\n",
    "    \n",
    "    index_in_original_string = 0                      # Track the current transcript position\n",
    "    index_in_transformed_string = 0                   # Track the index in the transformed string\n",
    "    \n",
    "    for char in transformed_string:\n",
    "        if char == 'M' :                              # For matches or pluses (insertions), we advance both indexes\n",
    "            if index_in_original_string == transcript_nucleotide_position:\n",
    "               return index_in_transformed_string \n",
    "            index_in_original_string += 1\n",
    "            index_in_transformed_string += 1 \n",
    "        elif char == '-':                             # For deletions, only advance the index in the transformed string\n",
    "            index_in_transformed_string += 1\n",
    "        elif char == '+' :                            # For matches or pluses (insertions), we advance both indexes\n",
    "            index_in_original_string += 1\n",
    "            index_in_transformed_string += 1 \n",
    "            # pass     \n",
    "        \n",
    "    print(f\"Most likely, it maps to an insertion\")\n",
    "    return -1"
   ]
  },
  {
   "cell_type": "code",
   "execution_count": 6,
   "id": "b5b9f83b-786b-48a9-85f9-95db49e5e646",
   "metadata": {},
   "outputs": [
    {
     "name": "stdout",
     "output_type": "stream",
     "text": [
      "Testing the function find_transcript_index():\n",
      "more information is available in the xls file.\n",
      "MMMMMMMM-------MMMMMM++MM-----------MMMMMMM\n",
      "Nucleotide number 19 corresponds to index 36 in the expanded CIGAR string.\n"
     ]
    }
   ],
   "source": [
    "print(\"Testing the function find_transcript_index():\")  \n",
    "print(\"more information is available in the xls file.\") \n",
    "transformed_string = transform_cigar(\"8M7D6M2I2M11D7M\")\n",
    "print(transformed_string)\n",
    "nucleotide_number = 19  \n",
    "index = find_transcript_index(transformed_string, nucleotide_number)\n",
    "print(f'Nucleotide number {nucleotide_number} corresponds to index {index} in the expanded CIGAR string.')"
   ]
  },
  {
   "cell_type": "code",
   "execution_count": 7,
   "id": "fbd90712-1496-40a3-bb52-83c89f7e66e9",
   "metadata": {},
   "outputs": [],
   "source": [
    "def calculate_genome_position(transcript_modified_string, transcript_position_modified_string, position_start_transcript_on_genome):\n",
    "\n",
    "    '''\n",
    "    Calculates the genome position corresponding to a given nucleotide position in a modified transcript string.\n",
    "\n",
    "    This function processes a modified transcript string, which consists of characters representing matches ('M'),\n",
    "    deletions ('-'), and insertions ('+'). It maps a specified position in the modified transcript to its \n",
    "    corresponding position in the genome, taking into account the starting position of the transcript on the genome.\n",
    "\n",
    "    Parameters:\n",
    "    -----------\n",
    "    transcript_modified_string : str\n",
    "        The modified transcript string composed of characters 'M', '-', and '+' that represent matches, \n",
    "        deletions, and insertions, respectively.\n",
    "\n",
    "    transcript_position_modified_string : int\n",
    "        The 0-based position in the modified transcript for which the corresponding genome position is to be found.\n",
    "\n",
    "    position_start_transcript_on_genome : int\n",
    "        The starting position of the transcript in the genome, serving as a reference point for position calculations.\n",
    "\n",
    "    Returns:\n",
    "    --------\n",
    "    int or None\n",
    "        The genome position corresponding to the specified transcript position if found; otherwise, returns None\n",
    "        to indicate that the position was not found in the modified transcript string.\n",
    "\n",
    "    Example:\n",
    "    --------\n",
    "    >>> position_start_transcript_on_genome = 3\n",
    "    >>> transcript_string_modified_string = \"MMMMMMMM-------MMMMMM++MM-----------MMMMMMM\"\n",
    "    >>> transcript_position_modified_string = 42\n",
    "    >>> calculate_genome_position(transcript_string_modified_string, transcript_position_modified_string, position_start_transcript_on_genome)\n",
    "    45  # Returns the corresponding genome index\n",
    "\n",
    "    Notes:\n",
    "    ------\n",
    "    - The function will return the genome position when the specified transcript position is encountered\n",
    "      during the traversal of the modified transcript string.\n",
    "    - If the specified position is not found, the function returns None.\n",
    "    - The function assumes that the provided `transcript_position_modified_string` is within the bounds of the \n",
    "      `transcript_modified_string`.\n",
    "    '''\n",
    "    \n",
    "    current_genome_position = position_start_transcript_on_genome\n",
    "    current_position_on_alignment = 0                   # Track the current position in the alignment (expanded CIGAR string) \n",
    "\n",
    "    # Loop through the expanded transcript string\n",
    "    for char in transcript_modified_string:\n",
    "        if char == 'M':\n",
    "            # For matches, advance both expnded string and genome indexes\n",
    "            if current_position_on_alignment == transcript_position_modified_string:\n",
    "                return current_genome_position \n",
    "            current_position_on_alignment += 1    # Advance the alignment position\n",
    "            current_genome_position += 1          # Advance the genome position\n",
    "        elif char == '-':\n",
    "            # For deletions, skip the expanded string position and advance the genome position\n",
    "            if current_position_on_alignment == transcript_position_modified_string:\n",
    "                return current_genome_position\n",
    "            current_position_on_alignment += 1    # Advance the alignment position\n",
    "            current_genome_position += 1          # Advance the genome position\n",
    "        elif char == '+':\n",
    "            current_position_on_alignment += 1    # Advance the alignment position\n",
    "\n",
    "    # If the transcript_position is not found, return None or \n",
    "    return None         # some appropriate value to indicate not found\n",
    "\n"
   ]
  },
  {
   "cell_type": "code",
   "execution_count": 8,
   "id": "6bedaaef-7a4c-407e-907a-1eb4365f64d6",
   "metadata": {},
   "outputs": [
    {
     "name": "stdout",
     "output_type": "stream",
     "text": [
      "Testing the function find_transcript_index():\n",
      "more information is available in the xls file.\n",
      "Transcript position in the expanded CIGAR string 19 corresponds to genome index 22.\n"
     ]
    }
   ],
   "source": [
    "print(\"Testing the function find_transcript_index():\") \n",
    "print(\"more information is available in the xls file.\")\n",
    "position_start_transcript_on_genome = 3 # for TR1\n",
    "transcript_string_modified_string = \"MMMMMMMM-------MMMMMM++MM-----------MMMMMMM\"\n",
    "transcript_position_modified_string = 19  \n",
    "genome_position = calculate_genome_position(transcript_string_modified_string, transcript_position_modified_string, position_start_transcript_on_genome)\n",
    "print(f'Transcript position in the expanded CIGAR string {transcript_position_modified_string} corresponds to genome index {genome_position}.')"
   ]
  },
  {
   "cell_type": "code",
   "execution_count": 9,
   "id": "cedf0b23-4aa9-40d8-a2d1-1cb0a7afc3ad",
   "metadata": {},
   "outputs": [],
   "source": [
    "# Verifying the entire pipeline on TR1 "
   ]
  },
  {
   "cell_type": "code",
   "execution_count": 10,
   "id": "e76290f5-fc5b-48fc-a7f4-17880bec9f33",
   "metadata": {},
   "outputs": [
    {
     "name": "stdout",
     "output_type": "stream",
     "text": [
      "MMMMMMMM-------MMMMMM++MM-----------MMMMMMM\n",
      "Nucleotide number 19 corresponds to index 36 on the expanded CIGAR string.\n",
      "Nucleotide number 19 corresponds to the genome index 37.\n"
     ]
    }
   ],
   "source": [
    "position_start_transcript_on_genome = 3  # The index of the genome sequence that coincides with the transcript_start\n",
    "\n",
    "transformed_string = transform_cigar(\"8M7D6M2I2M11D7M\")\n",
    "print(transformed_string)\n",
    "nucleotide_number = 19                         # the NUCLEOTIDE NUMBER in the original transcript\n",
    "transcript_position = nucleotide_number        # to make it equivalent with the INDEX\n",
    "\n",
    "index = find_transcript_index(transformed_string, transcript_position)\n",
    "print(f'Nucleotide number {nucleotide_number} corresponds to index {index} on the expanded CIGAR string.')\n",
    "transcript_string_modified_string = transformed_string\n",
    "transcript_position_modified_string = index    \n",
    "\n",
    "genome_position = calculate_genome_position(transcript_string_modified_string, index, position_start_transcript_on_genome)\n",
    "print(f'Nucleotide number {transcript_position} corresponds to the genome index {genome_position}.')"
   ]
  },
  {
   "cell_type": "code",
   "execution_count": 11,
   "id": "066a3c31-5a3c-44c4-8c0f-d037cc64dee2",
   "metadata": {},
   "outputs": [],
   "source": [
    "# Verifying the entire pipeline on TR2"
   ]
  },
  {
   "cell_type": "markdown",
   "id": "656c0a3c-ffab-476e-982d-3e110c7658da",
   "metadata": {},
   "source": [
    "##### "
   ]
  },
  {
   "cell_type": "code",
   "execution_count": 12,
   "id": "e7fab80c-7881-4c06-8eb8-dd06c191f1b8",
   "metadata": {},
   "outputs": [
    {
     "name": "stdout",
     "output_type": "stream",
     "text": [
      "MMMMMMMMMMMMMMMMMMMM\n",
      "Nucleotide number 19 corresponds to index 10 on the expanded CIGAR string.\n",
      "Nucleotide number 11 corresponds to the genome index 20.\n"
     ]
    }
   ],
   "source": [
    "position_start_transcript_on_genome = 10 # The index of the genome sequence that coincides with the transcript_start\n",
    "transformed_string = transform_cigar(\"20M\")\n",
    "print(transformed_string)\n",
    "\n",
    "transcript_position = 11  # The nucleotide position in the original transcript that is mapped on expanded CIGAR string\n",
    "index = find_transcript_index(transformed_string, transcript_position)\n",
    "print(f'Nucleotide number {nucleotide_number} corresponds to index {index} on the expanded CIGAR string.')\n",
    "transcript_string_modified_string = transformed_string\n",
    "transcript_position_modified_string = index \n",
    "\n",
    "genome_position = calculate_genome_position(transcript_string_modified_string, index, position_start_transcript_on_genome)\n",
    "print(f'Nucleotide number {transcript_position} corresponds to the genome index {genome_position}.')"
   ]
  },
  {
   "cell_type": "code",
   "execution_count": null,
   "id": "37ea348b-0008-42a2-a77f-21c3d06f56c4",
   "metadata": {},
   "outputs": [],
   "source": []
  },
  {
   "cell_type": "code",
   "execution_count": 13,
   "id": "cfaac1ab-bb97-4f5e-abb1-a7d5fcc0c4b6",
   "metadata": {},
   "outputs": [],
   "source": [
    "# Applying these functions to the data that was given :"
   ]
  },
  {
   "cell_type": "code",
   "execution_count": 14,
   "id": "995fbafa-9742-4953-b65b-ba2c01224440",
   "metadata": {},
   "outputs": [
    {
     "name": "stdout",
     "output_type": "stream",
     "text": [
      "  transcript_name chromosome  start_transcript_on_genome     cigar_string\n",
      "0             TR1       CHR1                           3  8M7D6M2I2M11D7M\n",
      "1             TR2       CHR2                          10              20M\n"
     ]
    }
   ],
   "source": [
    "# Read the file that contains the transcript alignments\n",
    "\n",
    "def read_transcript_alignments(filename):\n",
    "\n",
    "    df = pd.read_csv(filename, sep='\\t', header=0, names=['transcript_name', 'chromosome', 'transcript_start', 'cigar_string'])\n",
    "    df['transcript_start'] = df['transcript_start'].astype(int)\n",
    "    df = df.rename(columns={'transcript_start': 'start_transcript_on_genome'})\n",
    "\n",
    "    return df\n",
    "\n",
    "filename1 = 'input_transcripts_alignments.txt'  \n",
    "transcript_alignments = read_transcript_alignments(filename1)\n",
    "print(transcript_alignments)"
   ]
  },
  {
   "cell_type": "code",
   "execution_count": 15,
   "id": "dc06490c-e09d-497f-a302-bcae67ae1910",
   "metadata": {},
   "outputs": [
    {
     "name": "stdout",
     "output_type": "stream",
     "text": [
      "  transcript_name  index_in_transcript\n",
      "0             TR1                    4\n",
      "1             TR2                    0\n",
      "2             TR1                   13\n",
      "3             TR2                   10\n"
     ]
    }
   ],
   "source": [
    "# Read the file that contains the nucleotide positions \n",
    "\n",
    "def read_nucleotide_positions(filename):\n",
    "    \n",
    "    df = pd.read_csv(filename, sep='\\t', header=0, names=['transcript_name','transcript_coordinate'])\n",
    "\n",
    "    df['transcript_coordinate'] = df['transcript_coordinate'].astype(int)\n",
    "    df = df.rename(columns={'transcript_coordinate': 'index_in_transcript'})\n",
    "\n",
    "    return df\n",
    "\n",
    "\n",
    "filename2 = 'input_transcripts_positions.txt'  \n",
    "nucleotide_positions = read_nucleotide_positions(filename2)\n",
    "print(nucleotide_positions)"
   ]
  },
  {
   "cell_type": "code",
   "execution_count": 16,
   "id": "64da1ab4-7e19-4c70-8913-2fc723561c46",
   "metadata": {},
   "outputs": [
    {
     "name": "stdout",
     "output_type": "stream",
     "text": [
      "\n",
      "The combined files that contain both transcript alignments and nucleotide positions :\n",
      "  transcript_name chromosome  start_transcript_on_genome     cigar_string  \\\n",
      "0             TR1       CHR1                           3  8M7D6M2I2M11D7M   \n",
      "1             TR1       CHR1                           3  8M7D6M2I2M11D7M   \n",
      "2             TR2       CHR2                          10              20M   \n",
      "3             TR2       CHR2                          10              20M   \n",
      "\n",
      "   index_in_transcript  \n",
      "0                    4  \n",
      "1                   13  \n",
      "2                    0  \n",
      "3                   10  \n"
     ]
    }
   ],
   "source": [
    "# Merge these DataFrames based on 'transcript_name'\n",
    "\n",
    "combined_data = pd.merge(transcript_alignments, nucleotide_positions, on='transcript_name', how='outer')\n",
    "print(\"\\nThe combined files that contain both transcript alignments and nucleotide positions :\")\n",
    "print(combined_data)\n",
    "# output_file = 'input_transcripts_alignments_and_nucleotide_positions.txt' \n",
    "# combined_data.to_csv(output_file, sep='\\t', index=False) "
   ]
  },
  {
   "cell_type": "code",
   "execution_count": 17,
   "id": "96678ca6-0dbe-42d2-a0e7-716d29249278",
   "metadata": {},
   "outputs": [],
   "source": [
    "# Applying the 1st function : transform_cigar()"
   ]
  },
  {
   "cell_type": "code",
   "execution_count": 18,
   "id": "dc9559d4-4a21-4ee3-bb2d-a83b8b39bf33",
   "metadata": {},
   "outputs": [
    {
     "name": "stdout",
     "output_type": "stream",
     "text": [
      "  transcript_name chromosome  start_transcript_on_genome     cigar_string  \\\n",
      "0             TR1       CHR1                           3  8M7D6M2I2M11D7M   \n",
      "1             TR1       CHR1                           3  8M7D6M2I2M11D7M   \n",
      "2             TR2       CHR2                          10              20M   \n",
      "3             TR2       CHR2                          10              20M   \n",
      "\n",
      "   index_in_transcript                           transformed_string  \n",
      "0                    4  MMMMMMMM-------MMMMMM++MM-----------MMMMMMM  \n",
      "1                   13  MMMMMMMM-------MMMMMM++MM-----------MMMMMMM  \n",
      "2                    0                         MMMMMMMMMMMMMMMMMMMM  \n",
      "3                   10                         MMMMMMMMMMMMMMMMMMMM  \n"
     ]
    }
   ],
   "source": [
    "combined_data[\"transformed_string\"] = combined_data[\"cigar_string\"].apply(transform_cigar) \n",
    "print(combined_data)"
   ]
  },
  {
   "cell_type": "code",
   "execution_count": 19,
   "id": "4bc55166-f1e5-4f7f-a56e-4b9fdfb03793",
   "metadata": {},
   "outputs": [],
   "source": [
    "# Applying the 2nd function : find_transcript_index()"
   ]
  },
  {
   "cell_type": "code",
   "execution_count": 20,
   "id": "81c544ef-d0f7-45c1-afc8-4ed65c1e9a28",
   "metadata": {},
   "outputs": [
    {
     "name": "stdout",
     "output_type": "stream",
     "text": [
      "  transcript_name chromosome  start_transcript_on_genome     cigar_string  \\\n",
      "0             TR1       CHR1                           3  8M7D6M2I2M11D7M   \n",
      "1             TR1       CHR1                           3  8M7D6M2I2M11D7M   \n",
      "2             TR2       CHR2                          10              20M   \n",
      "3             TR2       CHR2                          10              20M   \n",
      "\n",
      "   index_in_transcript                           transformed_string  \\\n",
      "0                    4  MMMMMMMM-------MMMMMM++MM-----------MMMMMMM   \n",
      "1                   13  MMMMMMMM-------MMMMMM++MM-----------MMMMMMM   \n",
      "2                    0                         MMMMMMMMMMMMMMMMMMMM   \n",
      "3                   10                         MMMMMMMMMMMMMMMMMMMM   \n",
      "\n",
      "   index_in_transformed_string  \n",
      "0                            4  \n",
      "1                           20  \n",
      "2                            0  \n",
      "3                           10  \n"
     ]
    }
   ],
   "source": [
    "# Apply the second function with additional argument using a lambda function\n",
    "combined_data[\"index_in_transformed_string\"] = combined_data.apply(\n",
    "    lambda row: find_transcript_index(row[\"transformed_string\"], row[\"index_in_transcript\"] + 1),\n",
    "    axis=1\n",
    ")\n",
    "print(combined_data)"
   ]
  },
  {
   "cell_type": "code",
   "execution_count": 21,
   "id": "e5a6cdcf-436a-4092-8e49-9dc1eaba12ad",
   "metadata": {},
   "outputs": [],
   "source": [
    "# Applying the 3rd function : calculate_genome_position()"
   ]
  },
  {
   "cell_type": "code",
   "execution_count": 22,
   "id": "29946e66-630d-4369-84c9-ab61e8eb44b4",
   "metadata": {},
   "outputs": [
    {
     "name": "stdout",
     "output_type": "stream",
     "text": [
      "  transcript_name chromosome  start_transcript_on_genome     cigar_string  \\\n",
      "0             TR1       CHR1                           3  8M7D6M2I2M11D7M   \n",
      "1             TR1       CHR1                           3  8M7D6M2I2M11D7M   \n",
      "2             TR2       CHR2                          10              20M   \n",
      "3             TR2       CHR2                          10              20M   \n",
      "\n",
      "   index_in_transcript                           transformed_string  \\\n",
      "0                    4  MMMMMMMM-------MMMMMM++MM-----------MMMMMMM   \n",
      "1                   13  MMMMMMMM-------MMMMMM++MM-----------MMMMMMM   \n",
      "2                    0                         MMMMMMMMMMMMMMMMMMMM   \n",
      "3                   10                         MMMMMMMMMMMMMMMMMMMM   \n",
      "\n",
      "   index_in_transformed_string  genome_index  \n",
      "0                            4             7  \n",
      "1                           20            23  \n",
      "2                            0            10  \n",
      "3                           10            20  \n"
     ]
    }
   ],
   "source": [
    "combined_data[\"genome_index\"] = combined_data.apply(\n",
    "    lambda row: calculate_genome_position(\n",
    "        row[\"transformed_string\"],\n",
    "        row[\"index_in_transformed_string\"]  ,\n",
    "        row[\"start_transcript_on_genome\"]\n",
    "    ),\n",
    "    axis=1\n",
    ")\n",
    "print(combined_data)"
   ]
  },
  {
   "cell_type": "code",
   "execution_count": 23,
   "id": "f34250ab-7bf0-4eb2-82ad-e68dbd5cab69",
   "metadata": {},
   "outputs": [],
   "source": [
    "# Printing the data that we are interested in :"
   ]
  },
  {
   "cell_type": "code",
   "execution_count": 24,
   "id": "de8a3dfa-e7ea-4989-9845-f40a08abfe3b",
   "metadata": {},
   "outputs": [
    {
     "name": "stdout",
     "output_type": "stream",
     "text": [
      "  transcript_name  index_in_transcript chromosome  genome_index\n",
      "0             TR1                    4       CHR1             7\n",
      "1             TR1                   13       CHR1            23\n",
      "2             TR2                    0       CHR2            10\n",
      "3             TR2                   10       CHR2            20\n"
     ]
    }
   ],
   "source": [
    "print(combined_data.loc[:, [\"transcript_name\", \"index_in_transcript\", \"chromosome\", \"genome_index\"]])"
   ]
  },
  {
   "cell_type": "code",
   "execution_count": 51,
   "id": "4d153bbf-8800-419b-ae4d-6f4e8f4ddc3c",
   "metadata": {},
   "outputs": [],
   "source": [
    "combined_data[[\"transcript_name\", \"index_in_transcript\", \"chromosome\", \"genome_index\"]].to_csv(\"output_genome_positions.txt\", sep='\\t', index=False)"
   ]
  },
  {
   "cell_type": "code",
   "execution_count": null,
   "id": "b1000b7a-0add-4896-ae87-0c75b6dc7fd3",
   "metadata": {},
   "outputs": [],
   "source": []
  }
 ],
 "metadata": {
  "kernelspec": {
   "display_name": "Python 3 (ipykernel)",
   "language": "python",
   "name": "python3"
  },
  "language_info": {
   "codemirror_mode": {
    "name": "ipython",
    "version": 3
   },
   "file_extension": ".py",
   "mimetype": "text/x-python",
   "name": "python",
   "nbconvert_exporter": "python",
   "pygments_lexer": "ipython3",
   "version": "3.9.20"
  }
 },
 "nbformat": 4,
 "nbformat_minor": 5
}
